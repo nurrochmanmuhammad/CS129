{
 "cells": [
  {
   "cell_type": "markdown",
   "metadata": {},
   "source": [
    "# Programming Exercise 1: Linear Regression - Optional\n",
    "                                      \n",
    "\n",
    "If you have successfully completed the required part of Exercise 1, congratulations!\n",
    "\n",
    "You now understand linear regression and should be able to start using it\n",
    "on your own datasets. For the rest of this programming exercise, we have\n",
    "included a few functions you will have to implement. These exercises will help you\n",
    "gain a deeper understanding of the material, and if you are able to do\n",
    "so, we encourage you to complete them as well. In this notebook, you will implement linear regression on multiple variables and get to see it work on data. You will be asked to complete the following functions:\n",
    "\n",
    "-  computeCostMulti - Cost function for multiple variables\n",
    "-  gradientDescentMulti - Gradient descent function for multiple variables\n",
    "-  featureNormalize - Function to normalize features\n",
    "-  normalEqn - Function to compute the normal equations\n",
    "\n",
    "**Instructions**:\n",
    "\n",
    "For each function, we have provided starter code for you. You will find a description of the problems followed by a cell which contains some code. You will have to write your own code in these cells to complete the four functions mentioned above. Once you run the cells, your output would be displayed. If it matches the expected output, then you should continue with the next part of the exercise, else, you would have to try again. \n",
    "\n",
    "Please read the [Notebook FAQ](https://www.coursera.org/learn/machine-learning/supplement/S9fb6/jupyter-notebook-faq) to get familiar with the Jupyter environment and the commands. We also highly recommend going to your workspace to explore the files you will be working with before starting the exercise.\n",
    "\n",
    "To go to the workspace: press on File ==> Open.\n",
    "\n",
    "### NOTE:\n",
    "You will find cells which contain the comment % GRADED FUNCTION: functionName. Do not edit that comment. Those cells will be used to grade your assignment. Each block of code with that comment should only have the function. \n",
    "\n",
    "#### After submitting your assignment, you can [check your grades here](https://www.coursera.org/learn/machine-learning/programming/V6ZFz/linear-regression-optional). "
   ]
  },
  {
   "cell_type": "markdown",
   "metadata": {},
   "source": [
    "Linear regression with multiple variables\n",
    "=========================================\n",
    "\n",
    "You will implement linear regression with multiple\n",
    "variables to predict housing prices\n",
    ". Suppose you are selling your\n",
    "house and you want to know what a good market price would be. One way to\n",
    "do this is to first collect information on recent houses sold and to make a\n",
    "model of housing prices. The file ***[ex1data2.txt](ex1data2.txt)*** contains a\n",
    "training set of housing prices in Portland, Oregon. The first column is\n",
    "the size of the house (in square feet), the second column is the number\n",
    "of bedrooms, and the third column is the price of the house. "
   ]
  },
  {
   "cell_type": "markdown",
   "metadata": {
    "collapsed": true
   },
   "source": [
    "Feature Normalization \n",
    "---------\n",
    "\n",
    "By looking at the values, note that house sizes are about 1000 times the number of bedrooms. When features differ\n",
    "by orders of magnitude, first performing feature scaling can make\n",
    "gradient descent converge much more quickly.\n",
    "Your task here is to complete the function, featureNormalize, in the cell below. You should:\n",
    "\n",
    "-   Subtract the mean value of each feature from the dataset.\n",
    "\n",
    "-   After subtracting the mean, additionally scale (divide) the feature\n",
    "    values by their respective “standard deviations.”\n",
    "\n",
    "The standard deviation is a way of measuring how much variation there is\n",
    "in the range of values of a particular feature (most data points will\n",
    "lie within $\\pm$2 standard deviations of the mean); this is an\n",
    "alternative to taking the range of values (max-min). In Octave/MATLAB,\n",
    "you can use the `std` function to compute the standard deviation.\n",
    "For example, the quantity\n",
    "`X(:,1)` contains all the values of $x_1$ (house sizes) in the\n",
    "training set, so `std(X(:,1))` computes the standard deviation of\n",
    "the house sizes. When you call featureNormalize(X),\n",
    "the extra column of 1’s corresponding to $x_0 = 1$ has not yet been\n",
    "added to `X`. You will do\n",
    "this for all the features and your code should work with datasets of all\n",
    "sizes (any number of features / examples). Note that each column of the\n",
    "matrix `X` corresponds to one feature.\n",
    "\n",
    "### Instructions\n",
    "When normalizing the features, it is important\n",
    "to store the values used for normalization - the *mean value* and the\n",
    "*standard deviation*. After learning the\n",
    "parameters from the model, we often want to predict the prices of houses\n",
    "we have not seen before. Given a new $\\mathbf{x}$ value (house size and number of bedrooms), we must first normalize $\\mathbf{x}$ using\n",
    "the mean and standard deviation that we had previously computed from the\n",
    "training set.\n",
    "\n",
    "featureNormalize(X) returns a normalized version of X where the mean value of each feature is 0 and the standard deviation is 1. This is often a good preprocessing step to do when working with learning algorithms.\n",
    "\n",
    "You need to store the mean and the standard deviation of each feature in mu and sigma respectively.\n",
    "\n",
    "***Hint:*** You might find the 'mean', 'std', and 'bsfxun' functions useful."
   ]
  },
  {
   "cell_type": "code",
   "execution_count": 158,
   "metadata": {
    "scrolled": true
   },
   "outputs": [],
   "source": [
    "% Load the Data\n",
    "warning('off'); addpath('../readonly/Assignment1b/');\n",
    "data = load('ex1data2.txt');\n",
    "X = data(:, 1:2);\n",
    "y = data(:, 3);\n",
    "m = length(y);"
   ]
  },
  {
   "cell_type": "code",
   "execution_count": 159,
   "metadata": {},
   "outputs": [],
   "source": [
    "% GRADED FUNCTION: featureNormalize\n",
    "function [X_norm, mu, sigma] = featureNormalize(X)\n",
    "\n",
    "% You need to set these values correctly\n",
    "X_norm = X;\n",
    "mu = zeros(1, size(X, 2));\n",
    "sigma = zeros(1, size(X, 2));\n",
    "\n",
    "% ====================== YOUR CODE HERE ======================\n",
    "mu_ = mean(X);\n",
    "sigma_ = std(X);\n",
    "\n",
    "mu = mu + mu_;\n",
    "sigma = sigma + sigma_;\n",
    "\n",
    "X_norm = (X - mu)./sigma;\n",
    "\n",
    "% ============================================================\n",
    "end"
   ]
  },
  {
   "cell_type": "code",
   "execution_count": 160,
   "metadata": {},
   "outputs": [
    {
     "name": "stdout",
     "output_type": "stream",
     "text": [
      "X =\n",
      "\n",
      "   1.3001e-01  -2.2368e-01\n",
      "  -5.0419e-01  -2.2368e-01\n",
      "   5.0248e-01  -2.2368e-01\n",
      "  -7.3572e-01  -1.5378e+00\n",
      "   1.2575e+00   1.0904e+00\n",
      "  -1.9732e-02   1.0904e+00\n",
      "  -5.8724e-01  -2.2368e-01\n",
      "  -7.2188e-01  -2.2368e-01\n",
      "  -7.8102e-01  -2.2368e-01\n",
      "  -6.3757e-01  -2.2368e-01\n",
      "  -7.6357e-02   1.0904e+00\n",
      "  -8.5674e-04  -2.2368e-01\n",
      "  -1.3927e-01  -2.2368e-01\n",
      "   3.1173e+00   2.4045e+00\n",
      "  -9.2196e-01  -2.2368e-01\n",
      "   3.7664e-01   1.0904e+00\n",
      "  -8.5652e-01  -1.5378e+00\n",
      "  -9.6222e-01  -2.2368e-01\n",
      "   7.6547e-01   1.0904e+00\n",
      "   1.2965e+00   1.0904e+00\n",
      "  -2.9405e-01  -2.2368e-01\n",
      "  -1.4179e-01  -1.5378e+00\n",
      "  -4.9916e-01  -2.2368e-01\n",
      "  -4.8673e-02   1.0904e+00\n",
      "   2.3774e+00  -2.2368e-01\n",
      "  -1.1334e+00  -2.2368e-01\n",
      "  -6.8287e-01  -2.2368e-01\n",
      "   6.6103e-01  -2.2368e-01\n",
      "   2.5081e-01  -2.2368e-01\n",
      "   8.0070e-01  -2.2368e-01\n",
      "  -2.0345e-01  -1.5378e+00\n",
      "  -1.2592e+00  -2.8519e+00\n",
      "   4.9477e-02   1.0904e+00\n",
      "   1.4299e+00  -2.2368e-01\n",
      "  -2.3868e-01   1.0904e+00\n",
      "  -7.0930e-01  -2.2368e-01\n",
      "  -9.5845e-01  -2.2368e-01\n",
      "   1.6524e-01   1.0904e+00\n",
      "   2.7864e+00   1.0904e+00\n",
      "   2.0299e-01   1.0904e+00\n",
      "  -4.2366e-01  -1.5378e+00\n",
      "   2.9863e-01  -2.2368e-01\n",
      "   7.1262e-01   1.0904e+00\n",
      "  -1.0075e+00  -2.2368e-01\n",
      "  -1.4454e+00  -1.5378e+00\n",
      "  -1.8709e-01   1.0904e+00\n",
      "  -1.0037e+00  -2.2368e-01\n",
      "\n",
      "mu =\n",
      "\n",
      "   2000.6809      3.1702\n",
      "\n",
      "sigma =\n",
      "\n",
      "   794.70235     0.76098\n",
      "\n"
     ]
    }
   ],
   "source": [
    "% Scale features and set them to zero mean\n",
    "[X mu sigma] = featureNormalize(X)\n",
    "\n",
    "% Add intercept term to X\n",
    "X = [ones(m, 1) X];"
   ]
  },
  {
   "cell_type": "markdown",
   "metadata": {},
   "source": [
    "### Compute the Cost for Multiple Variables: \n",
    "\n",
    "\n",
    "Previously, you implemented gradient descent on a univariate regression\n",
    "problem. The only difference now is that there is one more feature in\n",
    "the matrix `X`. The hypothesis function and the batch gradient\n",
    "descent update rule remain unchanged. You first have to implement \n",
    "the cost function for multiple variables. Once you are done implementing it, you will complete the gradient descent for linear regression with\n",
    "multiple variables. If your code in the previous exercise (single variable)\n",
    "already supports multiple variables, you can use it here too. Make sure\n",
    "your code supports any number of features and is well-vectorized. You\n",
    "can use `size(X, 2)` to find out how many features are present in\n",
    "the dataset.\n",
    "\n",
    "\n",
    "In the multivariate case, the cost function can also be written in the\n",
    "following vectorized form: \n",
    "\n",
    "$$J(\\theta) = \\frac{1}{2m}(X\\theta-\\vec{y})^{T}(X\\theta-\\vec{y})$$\n",
    "\n",
    "where \n",
    "\n",
    "$$X=\n",
    "\\left(\\begin{array}{cc} \n",
    "---(x^{(1)})^T ---\\\\\n",
    "---(x^{(2)})^T ---\\\\\n",
    "       .          \\\\\n",
    "       .           \\\\\n",
    "---(x^{(m)})^T ---\\\\\n",
    "\\end{array}\\right) \\; \\; \\; \\;  \\vec{y} = \n",
    "\\left(\\begin{array}{cc} \n",
    "y^{(1)}\\\\ \n",
    "y^{(2)}\\\\ \n",
    "  .    \\\\\n",
    "  .  \\\\\n",
    "y^{(m)}\\\\ \n",
    "\\end{array}\\right) $$\n",
    "\n",
    "The vectorized version is efficient when you’re working with numerical\n",
    "computing tools like Octave/MATLAB. If you are an expert with matrix\n",
    "operations, you can prove to yourself that the two forms are equivalent.\n",
    "\n",
    "***Instructions***\n",
    "\n",
    "The function below should compute the cost for linear regression with multiple variables.\n",
    "\n",
    "J = computeCostMulti(X, y, theta) computes the cost of using theta as the parameter for linear regression to fit the data points in X and y.\n",
    "\n",
    "Complete the cell below."
   ]
  },
  {
   "cell_type": "code",
   "execution_count": 161,
   "metadata": {},
   "outputs": [],
   "source": [
    "% GRADED FUNCTION: computeCostMulti\n",
    "function J = computeCostMulti(X, y, theta)\n",
    "\n",
    "m = length(y); % number of training examples\n",
    "J = 0;         % compute the cost and set it to J\n",
    "\n",
    "% ====================== YOUR CODE HERE ======================\n",
    "h = X * theta;\n",
    "J = 1/(2*m) * sum((h - y).^2);\n",
    "\n",
    "% ============================================================\n",
    "end"
   ]
  },
  {
   "cell_type": "code",
   "execution_count": 162,
   "metadata": {},
   "outputs": [
    {
     "name": "stdout",
     "output_type": "stream",
     "text": [
      "ans =    6.5592e+10\n"
     ]
    }
   ],
   "source": [
    "% Load data\n",
    "data = load('ex1data2.txt'); X = data(:, 1:2); y = data(:, 3); m = length(y);\n",
    "\n",
    "% Normalize and add ones\n",
    "[X mu sigma] = featureNormalize(X);\n",
    "X = [ones(m, 1) X];\n",
    "\n",
    "% Compute cost for theta with all zeros\n",
    "theta = zeros(3, 1);         % We already loaded X and y\n",
    "\n",
    "computeCostMulti(X, y, theta)"
   ]
  },
  {
   "cell_type": "markdown",
   "metadata": {},
   "source": [
    "**Expected Output:**\n",
    "\n",
    "6.5592e+10"
   ]
  },
  {
   "cell_type": "markdown",
   "metadata": {},
   "source": [
    "### Computing Gradient Descent for Multiple Variables\n",
    "\n",
    "gradientDescentMulti uses gradient descent to learn theta.\n",
    "\n",
    "theta = gradientDescentMulti(x, y, theta, alpha, num_iters) updates theta by taking num_iters gradient steps with learning rate alpha. You should perform a single gradient step on the parameter vector theta.\n",
    "\n",
    "***Hint***: While debugging, it can be useful to print out the values of the cost function (computeCostMulti) and gradient here. Once you are done you could just press on Cell ==> Run All to make sure that you have initialized all the variables in the correct order. "
   ]
  },
  {
   "cell_type": "code",
   "execution_count": 163,
   "metadata": {},
   "outputs": [
    {
     "name": "stdout",
     "output_type": "stream",
     "text": [
      "Variables in the current scope:\n",
      "\n",
      "   Attr Name           Size                     Bytes  Class\n",
      "   ==== ====           ====                     =====  ===== \n",
      "        J_1          400x1                       3200  double\n",
      "        J_2          400x1                       3200  double\n",
      "        J_3          400x1                       3200  double\n",
      "        J_history    400x1                       3200  double\n",
      "        X             47x3                       1128  double\n",
      "        alpha          1x1                          8  double\n",
      "        alpha_1        1x1                          8  double\n",
      "        ans            1x1                          8  double\n",
      "        data          47x3                       1128  double\n",
      "        m              1x1                          8  double\n",
      "        mu             1x2                         16  double\n",
      "        num_iters      1x1                          8  double\n",
      "        price          1x1                          8  double\n",
      "        pt             1x2                         16  double\n",
      "        sigma          1x2                         16  double\n",
      "        theta          3x1                         24  double\n",
      "        theta_1        3x1                         24  double\n",
      "        theta_2        3x1                         24  double\n",
      "        theta_3        3x1                         24  double\n",
      "        y             47x1                        376  double\n",
      "\n",
      "Total is 1953 elements using 15624 bytes\n",
      "\n"
     ]
    }
   ],
   "source": [
    "% Load variables\n",
    "alpha = 0.01;                % Initializing alpha\n",
    "num_iters = 400;             % Number of iterations \n",
    "whos                         % The list of variables should include X, y, theta, alpha and num_iters"
   ]
  },
  {
   "cell_type": "code",
   "execution_count": 164,
   "metadata": {},
   "outputs": [],
   "source": [
    "% GRADED FUNCTION: gradientDescentMulti\n",
    "function [theta, J_history] = gradientDescentMulti(X, y, theta, alpha, num_iters)\n",
    "\n",
    "m = length(y);                    % number of training examples\n",
    "J_history = zeros(num_iters, 1);  % vector to store the cost at every iteration\n",
    "\n",
    "    for iter = 1:num_iters\n",
    "\n",
    "    % ====================== YOUR CODE HERE =====================\n",
    "    h = X * theta;% m x 1\n",
    "    grad = h - y; % m x 1\n",
    "    theta = theta - alpha/m * (grad' * X)';\n",
    "\n",
    "    % ===========================================================\n",
    "    J_history(iter) = computeCostMulti(X, y, theta); % Save the cost J in every iteration    \n",
    "\n",
    "    end\n",
    "\n",
    "end"
   ]
  },
  {
   "cell_type": "markdown",
   "metadata": {},
   "source": [
    "Now that you have completed the computeCostMulti and gradientDescentMulti functions, you could run the cell below to see a plot of the number of iterations versus the cost. You should modify the value of the price below to predict the price of a new house that has a size of 1650 sq-ft and 3 bedrooms. Recall that the first column of X is all-ones. Thus, it does not need to be normalized."
   ]
  },
  {
   "cell_type": "code",
   "execution_count": 165,
   "metadata": {
    "scrolled": false
   },
   "outputs": [
    {
     "name": "stdout",
     "output_type": "stream",
     "text": [
      "theta =\n",
      "\n",
      "   3.3430e+05\n",
      "   1.0009e+05\n",
      "   3.6735e+03\n",
      "\n",
      "Predicted price of a 1650 sq-ft, 3 br house (using gradient descent):\n",
      " $289314.620338\n"
     ]
    },
    {
     "data": {
      "image/png": "[encoded data removed]",
      "text/plain": [
       "<IPython.core.display.Image object>"
      ]
     },
     "metadata": {},
     "output_type": "display_data"
    }
   ],
   "source": [
    "% Initialize some variables\n",
    "[theta, J_history] = gradientDescentMulti(X, y, theta, alpha, num_iters); % run your gradient descent\n",
    "\n",
    "% Plot the convergence graph\n",
    "figure('Position',[0,0,400,400]);\n",
    "plot(1:numel(J_history), J_history, '-b', 'LineWidth', 2);\n",
    "xlabel('Number of iterations');\n",
    "ylabel('Cost J');\n",
    "\n",
    "theta      % Display result from gradient descent\n",
    "\n",
    "% ====================== YOUR CODE HERE ======================\n",
    "pt = ([1650, 3] - mu)./sigma;\n",
    "price = [1, pt] * theta;\n",
    "% ============================================================\n",
    "\n",
    "fprintf(['Predicted price of a 1650 sq-ft, 3 br house ' ...\n",
    "         '(using gradient descent):\\n $%f\\n'], price);"
   ]
  },
  {
   "cell_type": "markdown",
   "metadata": {},
   "source": [
    "### Optional (ungraded) exercise: Selecting learning rates\n",
    "\n",
    "In this part of the exercise, you will get to try out different learning\n",
    "rates for the dataset and find a learning rate that converges quickly.\n",
    "You can change the learning rate by \n",
    "changing the part of the code that sets the learning rate. The next\n",
    "phase will call your gradientDescent function and run gradient descent for about 50 iterations at the chosen\n",
    "learning rate. The function should also return the history of\n",
    "$J(\\theta)$ values in a vector J. After the last iteration, the\n",
    "cell will plot the J values against the number\n",
    "of iterations. If you picked a learning rate within a good range,\n",
    "your plot will look similar to: \n",
    "<img src=\"../readonly/Assignment1b/figure 1.png\" width=\"500\" height=\"500\">\n",
    "\n",
    "\n",
    "If your graph looks\n",
    "very different, especially if your value of $J(\\theta)$ increases or\n",
    "even blows up, adjust your learning rate and try again. We recommend\n",
    "trying values of the learning rate $\\alpha$ on a log-scale, at\n",
    "multiplicative steps of about 3 times the previous value (i.e., 0.3,\n",
    "0.1, 0.03, 0.01 and so on). You may also want to adjust the number of\n",
    "iterations you are running if that will help you see the overall trend\n",
    "in the curve."
   ]
  },
  {
   "cell_type": "markdown",
   "metadata": {},
   "source": [
    "**Implementation Note**: If your learning rate is too large, $J(\\theta)$ can diverge and \n",
    "`blow up`, resulting in values which are too large for computer calculations. In these situations,\n",
    "Octave/MATLAB will tend to return NaNs. NaN stands for not a number and is often caused by undefined\n",
    "operations that involve $-\\infty$ and $+\\infty$\n",
    "\n",
    "**Tip**: To compare how different learning rates affect\n",
    "convergence, it’s helpful to plot J for several learning rates on the\n",
    "same figure. In Octave/MATLAB, this can be done by performing gradient\n",
    "descent multiple times with a ’hold on’ command between plots.\n",
    "Concretely, if you’ve tried three different values of alpha (you should\n",
    "probably try more values than this) and stored the costs in J1, J2, and\n",
    "J3 you can plot them using the same code in the second half of the cell below. We have done it for you for one example, you should do it with different alpha values.  \n",
    " \n"
   ]
  },
  {
   "cell_type": "code",
   "execution_count": 166,
   "metadata": {},
   "outputs": [
    {
     "data": {
      "image/png": "[encoded data removed]",
      "text/plain": [
       "<IPython.core.display.Image object>"
      ]
     },
     "metadata": {},
     "output_type": "display_data"
    }
   ],
   "source": [
    "% Do it for different alpha values. (i.e. initiialize different alphas)\n",
    "alpha_1 = 0.02;\n",
    "num_iters = 400;\n",
    "\n",
    "\n",
    "% Add some code below to run gradientDescentMulit on different alphas and thetas\n",
    "% You could initialize J_2, J_3, etc.. the same way we have have J_1 \n",
    "theta_1 = zeros(3, 1);\n",
    "theta_2 = zeros(3, 1);\n",
    "theta_3 = zeros(3, 1);\n",
    "[theta_1, J_1] = gradientDescentMulti(X, y, theta_1, alpha_1, num_iters);\n",
    "[theta_2, J_2] = gradientDescentMulti(X, y, theta_2, 0.0006, num_iters);\n",
    "[theta_3, J_3] = gradientDescentMulti(X, y, theta_3, 0.09, num_iters);\n",
    "% ----------------------------------------------------------\n",
    "% Plot the convergence graphs\n",
    "figure('Position',[0,0,400,400]);\n",
    "plot(1:numel(J_history), J_history, '-b', 'LineWidth', 2);\n",
    "xlabel('Number of iterations');\n",
    "ylabel('Cost J');\n",
    "\n",
    "% To compare how different learning learning rates affect convergence, \n",
    "% it's helpful to plot J for several learning rates on the same figure.\n",
    "\n",
    "hold on;\n",
    "plot(1:numel(J_1), J_1, 'r', 'LineWidth',2);\n",
    "hold on;\n",
    "plot(1:numel(J_2), J_2(1:400), 'g');\n",
    "plot(1:numel(J_3), J_3(1:400), 'k');\n",
    "\n",
    "% The final arguments 'b', 'r', and 'k' specify different colors for the plots.\n"
   ]
  },
  {
   "cell_type": "markdown",
   "metadata": {},
   "source": [
    "Notice the changes in the convergence curves as the learning rate changes. With a small learning rate, you should find that gradient\n",
    "descent takes a very long time to converge to the optimal value.\n",
    "Conversely, with a large learning rate, gradient descent might not\n",
    "converge or might even diverge. Using the best learning rate that you\n",
    "found, rerun your code to run gradient descent until convergence to find\n",
    "the final values of $\\theta$. Next, use this value of $\\theta$ to\n",
    "predict another time the price of a house with 1650 square feet and 3 bedrooms. You\n",
    "will use these values later to check your implementation of the normal\n",
    "equations. Don’t forget to normalize your features when you make this\n",
    "prediction! \n"
   ]
  },
  {
   "cell_type": "markdown",
   "metadata": {},
   "source": [
    "### Normal Equations\n",
    "\n",
    "In the lecture videos, you learned the closed-form solution to\n",
    "linear regression. Using that formula does not require any feature scaling, and you will\n",
    "get an exact solution in one calculation: there is no “loop until\n",
    "convergence” like in gradient descent. Complete the function below to use the formula to calculate $\\theta$.\n",
    "Remember that while you don’t need to scale your features, we still need\n",
    "to add a column of 1’s to the X matrix to have an intercept term\n",
    "($\\theta_0$). We already added a one's vector to our X. After you have completed the NormalEqn function, run the cell.\n",
    "\n",
    "***Instructions***\n",
    "\n",
    "normalEqn computes the closed-form solution to linear regression using the normal equations.\n",
    "\n",
    "Compute the closed form solution to linear regression and put the result in theta.\n"
   ]
  },
  {
   "cell_type": "code",
   "execution_count": 171,
   "metadata": {},
   "outputs": [],
   "source": [
    "% GRADED FUNCTION: normalEqn\n",
    "function [theta] = normalEqn(X, y)\n",
    "\n",
    "theta = zeros(size(X, 2), 1);\n",
    "\n",
    "% ====================== YOUR CODE HERE ======================\n",
    "theta = inv(X' * X) * X' * y;\n",
    "% ============================================================\n",
    "\n",
    "end"
   ]
  },
  {
   "cell_type": "code",
   "execution_count": 172,
   "metadata": {
    "scrolled": true
   },
   "outputs": [
    {
     "name": "stdout",
     "output_type": "stream",
     "text": [
      "theta =\n",
      "\n",
      "   3.4041e+05\n",
      "   1.1063e+05\n",
      "  -6.6495e+03\n",
      "\n"
     ]
    }
   ],
   "source": [
    "theta = normalEqn(X, y)"
   ]
  },
  {
   "cell_type": "markdown",
   "metadata": {},
   "source": [
    "*Optional (ungraded) exercise:* Now, once you have found $\\theta$ using\n",
    "this method, use it to make a price prediction for a 1650-square-foot\n",
    "house with 3 bedrooms. You should find that gives the same predicted\n",
    "price as the value you obtained using the model fit with gradient\n",
    "descent above. "
   ]
  },
  {
   "cell_type": "code",
   "execution_count": 169,
   "metadata": {},
   "outputs": [],
   "source": [
    "% Try it below \n"
   ]
  },
  {
   "cell_type": "code",
   "execution_count": null,
   "metadata": {},
   "outputs": [],
   "source": []
  }
 ],
 "metadata": {
  "coursera": {
   "course_slug": "machine-learning",
   "graded_item_id": "V6ZFz",
   "launcher_item_id": "QixXS"
  },
  "kernelspec": {
   "display_name": "Octave",
   "language": "octave",
   "name": "octave"
  },
  "language_info": {
   "file_extension": ".m",
   "help_links": [
    {
     "text": "GNU Octave",
     "url": "https://www.gnu.org/software/octave/support.html"
    },
    {
     "text": "Octave Kernel",
     "url": "https://github.com/Calysto/octave_kernel"
    },
    {
     "text": "MetaKernel Magics",
     "url": "https://github.com/calysto/metakernel/blob/master/metakernel/magics/README.md"
    }
   ],
   "mimetype": "text/x-octave",
   "name": "octave",
   "version": "4.2.2"
  }
 },
 "nbformat": 4,
 "nbformat_minor": 1
}
