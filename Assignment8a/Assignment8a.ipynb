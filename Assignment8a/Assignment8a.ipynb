{
 "cells": [
  {
   "cell_type": "markdown",
   "metadata": {
    "collapsed": true
   },
   "source": [
    "# Programming Exercise 8: Anomaly Detection\n",
    "\n",
    "## Introduction\n",
    "\n",
    "In this exercise, you will implement the anomaly detection algorithm and apply it to detect failing servers on a network. In the second part, you will use collaborative filtering to build a recommender system for movies. Before starting on the programming exercise, we strongly recommend watching the video lectures and completing the review questions for the associated topics. The files included in this assignment are: \n",
    "\n",
    "- ex8data1.mat - First example Dataset for anomaly detection \n",
    "- ex8data2.mat - Second example Dataset for anomaly detection\n",
    "- multivariateGaussian.m - Computes the probability density function for a Gaussian distribution\n",
    "- visualizeFit.m - 2D plot of a Gaussian distribution and a dataset\n",
    "\n",
    "You only have to implement these two functions:\n",
    "\n",
    "- estimateGaussian.m - Estimate the parameters of a Gaussian distribution with a diagonal covariance matrix\n",
    "- selectThreshold.m - Find a threshold for anomaly detection\n",
    "\n",
    "The contained files are found in File --> Open... We highly recommend that you take a look at them as you make progress in this exercise. \n",
    "\n",
    "### NOTE:\n",
    "\n",
    "You will find cells which contain the comment % GRADED FUNCTION: functionName. Do not edit that comment. Those cells will be used to grade your assignment. Each block of code with that comment should only have the function. \n",
    "\n",
    "Instructions will be provided as needed in the exercise. \n",
    "\n",
    "\n",
    "#### When you are done and submit the assignment, click here to check your [submission](https://www.coursera.org/learn/ml-test-jupyter/programming/yBFub). \n",
    "\n"
   ]
  },
  {
   "cell_type": "markdown",
   "metadata": {},
   "source": [
    "Anomaly detection\n",
    "=================\n",
    "\n",
    "In this exercise, you will implement an anomaly detection algorithm to\n",
    "detect anomalous behavior in server computers. The features measure the\n",
    "throughput (mb/s) and latency (ms) of response of each server. While\n",
    "your servers were operating, you collected $m=307$ examples of how they\n",
    "were behaving, and thus have an unlabeled dataset\n",
    "$\\{x^{(1)}, \\ldots, x^{(m)}\\}$. You suspect that the vast majority of\n",
    "these examples are “normal” (non-anomalous) examples of the servers\n",
    "operating normally, but there might also be some examples of servers\n",
    "acting anomalously within this dataset.\n",
    "\n",
    "You will use a Gaussian model to detect anomalous examples in your\n",
    "dataset. You will first start on a 2D dataset that will allow you to\n",
    "visualize what the algorithm is doing. On that dataset you will fit a\n",
    "Gaussian distribution and then find values that have very low\n",
    "probability and hence can be considered anomalies. After that, you will\n",
    "apply the anomaly detection algorithm to a larger dataset with many\n",
    "dimensions. \n",
    "\n",
    "In the first part we will visualize the dataset as shown in\n",
    "Figure 1.\n",
    "\n",
    "<img src=\"readonly/figure 1.png\" width=\"500\" height=\"500\">"
   ]
  },
  {
   "cell_type": "code",
   "execution_count": null,
   "metadata": {
    "collapsed": false
   },
   "outputs": [],
   "source": [
    "warning('off'); addpath('readonly');\n",
    "load('ex8data1.mat');                    % You should now have X and y in your environment\n",
    "plot(X(:, 1), X(:, 2), 'bx');            % Visualize the example dataset\n",
    "axis([0 30 0 30]);\n",
    "xlabel('Latency (ms)');\n",
    "ylabel('Throughput (mb/s)');"
   ]
  },
  {
   "cell_type": "markdown",
   "metadata": {},
   "source": [
    "Gaussian distribution\n",
    "---------------------\n",
    "\n",
    "To perform anomaly detection, you will first need to fit a model to the\n",
    "data’s distribution.\n",
    "\n",
    "Given a training set $\\{x^{(1)}, ..., x^{(m)}\\}$ (where $x^{(i)} \\in\n",
    "\\mathbb{R}^n$), you want to estimate the Gaussian distribution for each\n",
    "of the features $x_i$. For each feature $i = 1\\ldots n$, you need to find\n",
    "parameters $\\mu_i$ and $\\sigma_i^2$ that fit the data in the $i$-th\n",
    "dimension $\\{x_i^{(1)}, ...,\n",
    "x_i^{(m)}\\}$ (the $i$-th dimension of each example).\n",
    "\n",
    "The Gaussian distribution is given by\n",
    "\n",
    "$$ p(x ; \\mu,\\sigma ^2) = \\frac{1}{\\sqrt{2 \\pi \\sigma ^2}}\\exp^{ - \\frac{(x - \\mu)^2}{2 \\sigma ^2} }$$\n",
    "\n",
    "where $\\mu$ is the mean and $\\sigma^2$ controls the variance.\n",
    "\n",
    "Estimating parameters for a Gaussian\n",
    "------------------------------------\n",
    "\n",
    "You can estimate the parameters, ($\\mu_i$, $\\sigma_i^2$), of the $i$-th\n",
    "feature by using the following equations. To estimate the mean, you will\n",
    "use:\n",
    "\n",
    "$$\\mu_i = \\frac{1}{m} \\sum_{j=1}^m x_i^{(j)}$$\n",
    "\n",
    "and for the variance you will use:\n",
    "$$\\sigma_i^2 = \\frac{1}{m} \\sum_{j=1}^m (x_i^{(j)} - \\mu_i)^2$$\n",
    "\n",
    "Your task is to complete the code in *estimateGaussian*. This\n",
    "function takes as input the data matrix $X$ and should output an\n",
    "$n$-dimension vector $\\mu$ that holds the mean of all the $n$\n",
    "features and another $n$-dimension vector **sigma 2** that holds the\n",
    "variances of all the features. You can implement this using a for-loop\n",
    "over every feature and every training example (though a vectorized implementation might be more efficient; feel free to use a vectorized implementation if you prefer). Note that in Octave/MATLAB, the var\n",
    "function will (by default) use $\\frac{1}{m-1}$, instead of $\\frac{1}{m}$ , when computing $\\sigma_i^2$.\n",
    "\n",
    "**Implementation**: \n",
    "\n",
    "[mu sigma2] = **estimateGaussian(X)**  The input X is the dataset with each n-dimensional data point in one row The output is an n-dimensional vector mu, the mean of the data set and the variances $\\sigma^2$, an n x 1 vector. You should compute the mean of the data and the variances.\n",
    "              In particular, mu(i) should contain the mean of\n",
    "              the data for the i-th feature and sigma2(i)\n",
    "              should contain variance of the i-th feature."
   ]
  },
  {
   "cell_type": "code",
   "execution_count": null,
   "metadata": {
    "collapsed": true
   },
   "outputs": [],
   "source": [
    "% GRADED FUNCTION: estimateGaussian\n",
    "function [mu sigma2] = estimateGaussian(X)\n",
    "\n",
    "[m, n] = size(X);           % Useful variables\n",
    "mu = zeros(n, 1);           % Return these values correctly\n",
    "sigma2 = zeros(n, 1);\n",
    "\n",
    "% ====================== YOUR CODE HERE ======================\n",
    "\n",
    "\n",
    "% ============================================================\n",
    "end"
   ]
  },
  {
   "cell_type": "markdown",
   "metadata": {},
   "source": [
    "Now that you have completed the code in estimateGaussian, we will visualize the contours of the fitted Gaussian distribution. You should get a plot similar to Figure 2. From your plot, you can see that most of the examples are in the region with the highest probability, while the anomalous examples are in the regions with lower probabilities.\n",
    "\n",
    "<img src=\"readonly/figure 2.png\" width=\"500\" height=\"500\">\n",
    " \n",
    "Our example case consists of 2 network server statistics across several machines: the latency and throughput of each machine. This exercise will help us find possibly faulty (or very fast) machines.\n",
    "\n",
    "For this exercise, we assume a Gaussian distribution for the dataset. We first estimate the parameters of our assumed Gaussian distribution, then compute the probabilities for each of the points and then visualize both the overall distribution and where each of the points falls in terms of that distribution.\n",
    "\n"
   ]
  },
  {
   "cell_type": "code",
   "execution_count": null,
   "metadata": {
    "collapsed": false
   },
   "outputs": [],
   "source": [
    "[mu sigma2] = estimateGaussian(X);                  %  Estimate my and sigma2\n",
    "\n",
    "\n",
    "p = multivariateGaussian(X, mu, sigma2);     %  Returns the density of the multivariate normal \n",
    "                                             %  at each data point (row) of X\n",
    "\n",
    "visualizeFit(X,  mu, sigma2);                %  Visualize the fit\n",
    "xlabel('Latency (ms)');\n",
    "ylabel('Throughput (mb/s)');\n",
    "mu\n",
    "sigma2"
   ]
  },
  {
   "cell_type": "markdown",
   "metadata": {},
   "source": [
    "**Expected Output**: \n",
    "\n",
    "mu : [14.112   14.998]\n",
    "\n",
    "sigma: [1.8326 1.7097]\n"
   ]
  },
  {
   "cell_type": "markdown",
   "metadata": {},
   "source": [
    "Selecting the threshold, $\\varepsilon$\n",
    "--------------------------------------\n",
    "\n",
    "Now that you have estimated the Gaussian parameters, you can investigate\n",
    "which examples have a very high probability given this distribution and\n",
    "which examples have a very low probability. The low probability examples\n",
    "are more likely to be the anomalies in our dataset. One way to determine\n",
    "which examples are anomalies is to select a threshold based on a cross\n",
    "validation set. In this part of the exercise, you will implement an\n",
    "algorithm to select the threshold $\\varepsilon$ using the $F_1$ score on\n",
    "a cross validation set.\n",
    "\n",
    "You should now complete the code in *selectThreshold*. For this,\n",
    "we will use a cross validation set\n",
    "$\\{(x_{\\rm cv}^{(1)}, y_{\\rm cv}^{(1)}),\\ldots, (x_{\\rm cv}^{(m_{\\rm cv})}, y_{\\rm cv}^{(m_{\\rm cv})})\\}$,\n",
    "where the label $y=1$ corresponds to an anomalous example, and $y=0$\n",
    "corresponds to a normal example. For each cross validation example, we\n",
    "will compute $p(x_{\\rm cv}^{(i)})$. The vector of all of these\n",
    "probabilities\n",
    "$p(x_{\\rm cv}^{(1)}), \\ldots, p(x_{\\rm cv}^{(m_{\\rm cv)}})$ is passed to\n",
    "*selectThreshold* in the vector *pval*. The corresponding\n",
    "labels $y_{\\rm cv}^{(1)}, \\ldots, y_{\\rm cv}^{(m_{\\rm cv)}}$ is passed\n",
    "to the same function in the vector *yval*.\n",
    "\n",
    "The function *selectThreshold* should return two values; the\n",
    "first is the selected threshold $\\varepsilon$. If an example $x$ has a\n",
    "low probability $p(x) <\n",
    "\\varepsilon$, then it is considered to be an anomaly. The function\n",
    "should also return the $F_1$ score, which tells you how well you’re\n",
    "doing on finding the ground truth anomalies given a certain threshold.\n",
    "For many different values of $\\varepsilon$, you will compute the\n",
    "resulting $F_1$ score by computing how many examples the current\n",
    "threshold classifies correctly and incorrectly.\n",
    "\n",
    "The $F_1$ score is computed using precision ($prec$) and recall ($rec$):\n",
    "$$F_1 = \\frac{2\\cdot prec \\cdot rec}{prec + rec},\n",
    "$$ You compute precision and recall by: $$\\begin{aligned}\n",
    "    prec&=&\\frac{tp}{tp+fp}\\\\\n",
    "    rec&=&\\frac{tp}{tp+fn},\n",
    "\\end{aligned}$$ where\n",
    "\n",
    "-   $tp$ is the number of true positives: the ground truth label says\n",
    "    it’s an anomaly and our algorithm correctly classified it as an\n",
    "    anomaly.\n",
    "\n",
    "-   $fp$ is the number of false positives: the ground truth label says\n",
    "    it’s not an anomaly, but our algorithm incorrectly classified it as\n",
    "    an anomaly.\n",
    "\n",
    "-   $fn$ is the number of false negatives: the ground truth label says\n",
    "    it’s an anomaly, but our algorithm incorrectly classified it as not\n",
    "    being anomalous.\n",
    "\n",
    "In the provided code *selectThreshold*, there is already a loop\n",
    "that will try many different values of $\\varepsilon$ and select the best\n",
    "$\\varepsilon$ based on the $F_1$ score.\n",
    "\n",
    "You should now complete the code in *selectThreshold*. You can\n",
    "implement the computation of the *F1* score using a for-loop over\n",
    "all the cross validation examples (to compute the values $tp, fp, fn$). You should see a\n",
    "value for epsilon of about 8.99e-05.\n",
    "\n",
    "<img src=\"readonly/figure 3.png\" width=\"500\" height=\"500\">\n",
    "\n",
    "\n",
    "<table border = \"0\" width = \"600\"><tr><td> \n",
    "\n",
    "**Implementation Note:** In order to compute $tp$, $fp$ and $fn$, you may\n",
    "be able to use a vectorized implementation rather than loop over all the examples.\n",
    "This can be implemented by Octave/MATLAB's equality test between a vector\n",
    "and a single number.  If you have several binary values in an $n$-dimensional\n",
    "binary vector $v\\in \\{0,1\\}^n $, you can find out how many values in this vector\n",
    "are 0 by using:  *sum($v$ == 0)*. You can also apply a logical *and* operator\n",
    "to such binary vectors. For instance, let  *cvPredictions* be a binary\n",
    "vector of the size of your number of cross validation set, where the $i$-th\n",
    "element is 1 if your algorithm considers $x_{\\rm cv}^{(i)}$ an anomaly, and 0\n",
    "otherwise.  You can then, for example, compute the number of false positives using:  fp =\n",
    "sum((cvPredictions == 1) & (yval == 0)).\n",
    "\n",
    "</td></tr></table>\n",
    "\n",
    "\n",
    "[bestEpsilon bestF1] = selectThreshold(yval, pval) finds the best threshold to use for selecting outliers based on the results from a validation set (pval) and the ground truth (yval). You should compute the F1 score of choosing epsilon as the\n",
    "              threshold and place the value in F1. The code at the\n",
    "              end of the loop will compare the F1 score for this\n",
    "              choice of epsilon and set it to be the best epsilon if\n",
    "              it is better than the current choice of epsilon.\n",
    "              \n",
    "Note: You can use predictions = (pval < epsilon) to get a binary vector\n",
    "      of 0's and 1's of the outlier predictions\n"
   ]
  },
  {
   "cell_type": "code",
   "execution_count": null,
   "metadata": {
    "collapsed": true
   },
   "outputs": [],
   "source": [
    "% GRADED FUNCTION: selectThreshold\n",
    "function [bestEpsilon bestF1] = selectThreshold(yval, pval)\n",
    "\n",
    "bestEpsilon = 0;\n",
    "bestF1 = 0;\n",
    "F1 = 0;\n",
    "\n",
    "stepsize = (max(pval) - min(pval)) / 1000;\n",
    "for epsilon = min(pval):stepsize:max(pval)\n",
    "    \n",
    "    % ====================== YOUR CODE HERE ======================\n",
    "\n",
    "\n",
    "    \n",
    "\n",
    "    % =============================================================\n",
    "\n",
    "    if F1 > bestF1\n",
    "       bestF1 = F1;\n",
    "       bestEpsilon = epsilon;\n",
    "    end\n",
    "end\n",
    "end"
   ]
  },
  {
   "cell_type": "markdown",
   "metadata": {},
   "source": [
    "Now we will run your anomaly detection code and circle the anomalies in the plot (Figure 3). The code below will find a good epsilon threshold using a cross-validation set of probabilities given the estimated Gaussian distribution."
   ]
  },
  {
   "cell_type": "code",
   "execution_count": null,
   "metadata": {
    "collapsed": false
   },
   "outputs": [],
   "source": [
    "pval = multivariateGaussian(Xval, mu, sigma2);                 \n",
    "\n",
    "[epsilon F1] = selectThreshold(yval, pval);\n",
    "fprintf('Best epsilon found using cross-validation: %e\\n', epsilon);\n",
    "fprintf('Best F1 on Cross Validation Set:  %f\\n', F1);\n",
    "fprintf('   (you should see a value epsilon of about 8.99e-05)\\n\\n');\n",
    "\n",
    "outliers = find(p < epsilon);                %  Find the outliers in the training set and plot the\n",
    "\n",
    "\n",
    "visualizeFit(X,  mu, sigma2);                %  Visualize the fit\n",
    "xlabel('Latency (ms)');\n",
    "ylabel('Throughput (mb/s)');\n",
    "hold on                                      %  Draw a red circle around those outliers\n",
    "plot(X(outliers, 1), X(outliers, 2), 'ro', 'LineWidth', 2, 'MarkerSize', 10);\n",
    "hold off"
   ]
  },
  {
   "cell_type": "markdown",
   "metadata": {},
   "source": [
    "High dimensional dataset\n",
    "------------------------\n",
    "\n",
    "Now we will run the anomaly detection\n",
    "algorithm you implemented on a more realistic and much harder dataset.\n",
    "In this dataset, each example is described by 11 features, capturing\n",
    "many more properties of your compute servers.\n",
    "\n",
    "The script will use your code to estimate the Gaussian parameters\n",
    "($\\mu_i$ and $\\sigma_i^2$), evaluate the probabilities for both the\n",
    "training data $X$ from which you estimated the Gaussian parameters,\n",
    "and do so for the the cross-validation set $Xval$. Finally, it will\n",
    "use *selectThreshold* to find the best threshold $\\varepsilon$. You\n",
    "should see a value epsilon of about 1.38e-18, and 117 anomalies found."
   ]
  },
  {
   "cell_type": "code",
   "execution_count": null,
   "metadata": {
    "collapsed": false
   },
   "outputs": [],
   "source": [
    "%  Loads the second dataset. You should now have the\n",
    "%  variables X, Xval, yval in your environment\n",
    "load('ex8data2.mat');\n",
    "\n",
    "\n",
    "[mu sigma2] = estimateGaussian(X);                %  Apply the same steps to the larger dataset\n",
    "\n",
    "p = multivariateGaussian(X, mu, sigma2);          %  Training set \n",
    "\n",
    "pval = multivariateGaussian(Xval, mu, sigma2);    %  Cross-validation set\n",
    "\n",
    "[epsilon F1] = selectThreshold(yval, pval);       %  Find the best threshold\n",
    "\n",
    "\n",
    "fprintf('Best epsilon found using cross-validation: %e\\n', epsilon);\n",
    "fprintf('Best F1 on Cross Validation Set:  %f\\n', F1);\n",
    "fprintf('# Outliers found: %d\\n', sum(p < epsilon));\n",
    "fprintf('   (you should see a value epsilon of about 1.38e-18)\\n\\n');\n"
   ]
  },
  {
   "cell_type": "markdown",
   "metadata": {},
   "source": [
    "**Expected Output**\n",
    "\n",
    "Best epsilon found using cross-validation: 1.377229e-18\n",
    "\n",
    "Best F1 on Cross Validation Set:  0.615385\n",
    "\n",
    "Outliers found: 117"
   ]
  },
  {
   "cell_type": "code",
   "execution_count": null,
   "metadata": {
    "collapsed": true
   },
   "outputs": [],
   "source": []
  }
 ],
 "metadata": {
  "coursera": {
   "course_slug": "ml-test-jupyter",
   "graded_item_id": "yBFub",
   "launcher_item_id": "bSFeb",
   "submission_attachments": [
    "computeCost.m",
    "computeCostMulti.m",
    "featureNormalize.m",
    "gradientDescent.m",
    "gradientDescentMulti.m",
    "normalEqn.m",
    "plotData.m",
    "warmUpExercise.m"
   ]
  },
  "kernelspec": {
   "display_name": "Octave",
   "language": "octave",
   "name": "octave"
  },
  "language_info": {
   "file_extension": ".m",
   "help_links": [
    {
     "text": "GNU Octave",
     "url": "https://www.gnu.org/software/octave/support.html"
    },
    {
     "text": "Octave Kernel",
     "url": "https://github.com/Calysto/octave_kernel"
    },
    {
     "text": "MetaKernel Magics",
     "url": "https://github.com/calysto/metakernel/blob/master/metakernel/magics/README.md"
    }
   ],
   "mimetype": "text/x-octave",
   "name": "octave",
   "version": "3.8.2"
  }
 },
 "nbformat": 4,
 "nbformat_minor": 0
}
